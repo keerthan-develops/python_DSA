{
 "cells": [
  {
   "cell_type": "code",
   "execution_count": null,
   "metadata": {},
   "outputs": [],
   "source": [
    "\"\"\"\n",
    "Selection sort\n",
    "- Here you deal with indexes, find the minimum index after a full loop then assign\n",
    "- Then find second minimun index in the second loop\n",
    "- Until you find the maximum\n",
    "\"\"\"\n",
    "# print(selection_sort([4,2,6,5,1,3]))"
   ]
  },
  {
   "cell_type": "code",
   "execution_count": 3,
   "metadata": {},
   "outputs": [
    {
     "name": "stdout",
     "output_type": "stream",
     "text": [
      "min_index at arrival -> 0\n",
      "j = 1\n",
      "min_index changed to -> 1\n",
      "min_index at arrival -> 1\n",
      "j = 2\n",
      "No change\n",
      "min_index at arrival -> 1\n",
      "j = 3\n",
      "No change\n",
      "min_index at arrival -> 1\n",
      "j = 4\n",
      "min_index changed to -> 4\n",
      "min_index at arrival -> 4\n",
      "j = 5\n",
      "No change\n",
      "min_index after i = 0 is -> 4\n",
      "list modified to [1, 2, 6, 5, 4, 3]\n",
      "min_index at arrival -> 1\n",
      "j = 2\n",
      "No change\n",
      "min_index at arrival -> 1\n",
      "j = 3\n",
      "No change\n",
      "min_index at arrival -> 1\n",
      "j = 4\n",
      "No change\n",
      "min_index at arrival -> 1\n",
      "j = 5\n",
      "No change\n",
      "min_index at arrival -> 2\n",
      "j = 3\n",
      "min_index changed to -> 3\n",
      "min_index at arrival -> 3\n",
      "j = 4\n",
      "min_index changed to -> 4\n",
      "min_index at arrival -> 4\n",
      "j = 5\n",
      "min_index changed to -> 5\n",
      "min_index after i = 2 is -> 5\n",
      "list modified to [1, 2, 3, 5, 4, 6]\n",
      "min_index at arrival -> 3\n",
      "j = 4\n",
      "min_index changed to -> 4\n",
      "min_index at arrival -> 4\n",
      "j = 5\n",
      "No change\n",
      "min_index after i = 3 is -> 4\n",
      "list modified to [1, 2, 3, 4, 5, 6]\n",
      "min_index at arrival -> 4\n",
      "j = 5\n",
      "No change\n",
      "[1, 2, 3, 4, 5, 6]\n"
     ]
    }
   ],
   "source": [
    "def selection_sort(l):\n",
    "    for i in range(0, len(l)):\n",
    "        min_index = i\n",
    "        for j in range(i+1, len(l)):\n",
    "            temp = l[min_index]\n",
    "            print(f'min_index at arrival -> {min_index}')\n",
    "            print(f'j = {j}')\n",
    "            if temp > l[j]:\n",
    "                min_index = j\n",
    "                print(f'min_index changed to -> {min_index}')\n",
    "            else:\n",
    "                print(f'No change')\n",
    "                continue\n",
    "        if min_index != i:\n",
    "            temp = l[i]\n",
    "            l[i] = l[min_index]\n",
    "            l[min_index] = temp\n",
    "            print(f'min_index after i = {i} is -> {min_index}')\n",
    "            print(f'list modified to {l}')\n",
    "    return l\n",
    "\n",
    "l = [4,2,6,5,1,3]\n",
    "print(selection_sort(l))"
   ]
  },
  {
   "cell_type": "code",
   "execution_count": null,
   "metadata": {},
   "outputs": [],
   "source": []
  }
 ],
 "metadata": {
  "kernelspec": {
   "display_name": "base",
   "language": "python",
   "name": "python3"
  },
  "language_info": {
   "codemirror_mode": {
    "name": "ipython",
    "version": 3
   },
   "file_extension": ".py",
   "mimetype": "text/x-python",
   "name": "python",
   "nbconvert_exporter": "python",
   "pygments_lexer": "ipython3",
   "version": "3.11.7"
  }
 },
 "nbformat": 4,
 "nbformat_minor": 2
}
