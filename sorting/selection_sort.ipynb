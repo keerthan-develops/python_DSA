{
 "cells": [
  {
   "cell_type": "code",
   "execution_count": null,
   "metadata": {},
   "outputs": [],
   "source": [
    "\"\"\"\n",
    "Selection sort\n",
    "- Here you deal with indexes, find the minimum index after a full loop then assign\n",
    "- Then find second minimun index in the second loop\n",
    "- Until you find the maximum\n",
    "\"\"\"\n",
    "# print(selection_sort([4,2,6,5,1,3]))"
   ]
  },
  {
   "cell_type": "code",
   "execution_count": 2,
   "metadata": {},
   "outputs": [
    {
     "name": "stdout",
     "output_type": "stream",
     "text": [
      "1\n",
      "4\n",
      "3\n",
      "4\n",
      "5\n",
      "4\n",
      "[1, 2, 3, 4, 5, 6]\n"
     ]
    }
   ],
   "source": [
    "def selection_sort(l):\n",
    "    for i in range(0, len(l)):\n",
    "        min_index = i\n",
    "        for j in range(i+1, len(l)):\n",
    "            temp = l[min_index]\n",
    "            if temp > l[j]:\n",
    "                min_index = j\n",
    "                print(min_index)\n",
    "            else:\n",
    "                continue\n",
    "        if min_index != i:\n",
    "            temp = l[i]\n",
    "            l[i] = l[min_index]\n",
    "            l[min_index] = temp\n",
    "    return l\n",
    "\n",
    "l = [4,2,6,5,1,3]\n",
    "print(selection_sort(l))"
   ]
  },
  {
   "cell_type": "code",
   "execution_count": null,
   "metadata": {},
   "outputs": [],
   "source": []
  }
 ],
 "metadata": {
  "kernelspec": {
   "display_name": "base",
   "language": "python",
   "name": "python3"
  },
  "language_info": {
   "codemirror_mode": {
    "name": "ipython",
    "version": 3
   },
   "file_extension": ".py",
   "mimetype": "text/x-python",
   "name": "python",
   "nbconvert_exporter": "python",
   "pygments_lexer": "ipython3",
   "version": "3.11.7"
  }
 },
 "nbformat": 4,
 "nbformat_minor": 2
}
