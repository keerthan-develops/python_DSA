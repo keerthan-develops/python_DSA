{
 "cells": [
  {
   "cell_type": "code",
   "execution_count": null,
   "metadata": {},
   "outputs": [],
   "source": [
    "from Biswas, Saurav to Everyone:    5:15  PM\n",
    "\"Input: arr[] = {1, -2, 1, 0, 5}\n",
    "Output: 1 -2  1\n",
    "Explanation: The triplets with zero sum is 1 + -2 + 1 = 0  \"\n",
    "\"Input: arr[] = {1,6,3, -6, -2,-1,0}\n",
    "Output: 6+-6+0=0\n",
    "Explanation: The triplets with zero sum is \""
   ]
  },
  {
   "cell_type": "code",
   "execution_count": null,
   "metadata": {},
   "outputs": [],
   "source": [
    "#l = [1, -2, 1, 0, 5]\n",
    "l = [1,6,3, -6, -2,-1,0]\n",
    "for i in range(0, len(l)-2):\n",
    "    for j in range(i+1, len(l)-1):\n",
    "        if l[i] + l[j] + l[j+1] == 0:\n",
    "            print(f'{l[i]} {l[j]} {l[j+1]}')"
   ]
  },
  {
   "cell_type": "code",
   "execution_count": null,
   "metadata": {},
   "outputs": [],
   "source": [
    "\n",
    "Print all subsequences of a string\n",
    "Test Case: \n",
    "\"abcd\"\n",
    "\n",
    "\"abcd\n",
    "abc\n",
    "abd\n",
    "ab\n",
    "acd\n",
    "ac\n",
    "ad\n",
    "a\n",
    "bcd\n",
    "bc\n",
    "bd\n",
    "b\n",
    "cd\n",
    "c\n",
    "d\""
   ]
  },
  {
   "cell_type": "code",
   "execution_count": null,
   "metadata": {},
   "outputs": [],
   "source": [
    "l = 'abcd'\n",
    "leng = len(l)\n",
    "print(leng)\n",
    "counter = 1\n",
    "\n",
    "for i in range(0, len(l)):\n",
    "    counter = 1\n",
    "    ls = []\n",
    "    val = l[i]\n",
    "    for idx in range(i, len(l)):\n",
    "        if val != l[idx]:\n",
    "            print(f'{val} {l[idx]}')\n",
    "            ls.append(f'{val} {l[idx]}')\n",
    "\n",
    "while counter < leng:\n",
    "        counter += 1\n",
    "        for j in l:\n",
    "            ls.append(j)\n",
    "        print(f\"{i} {ls}\")\n",
    "\n",
    "    "
   ]
  },
  {
   "cell_type": "code",
   "execution_count": 26,
   "metadata": {},
   "outputs": [
    {
     "name": "stdout",
     "output_type": "stream",
     "text": [
      "[1, -2, 0, 5, 4, 9, 7, 9]\n"
     ]
    }
   ],
   "source": [
    "l = [1, -2, 1, 0, 5, 4, 9, 1, 7, 9]\n",
    "\n",
    "\n",
    "dupL = []\n",
    "finalL = []\n",
    "counter = 1\n",
    "for i in l:\n",
    "    if counter == 1:\n",
    "        dupL.append(i)\n",
    "        finalL.append(i)\n",
    "    elif i not in dupL:\n",
    "        finalL.append(i)\n",
    "    counter += 1\n",
    "print(finalL)\n",
    "    \n",
    "    \n",
    "\n"
   ]
  },
  {
   "cell_type": "code",
   "execution_count": null,
   "metadata": {},
   "outputs": [],
   "source": []
  }
 ],
 "metadata": {
  "kernelspec": {
   "display_name": "base",
   "language": "python",
   "name": "python3"
  },
  "language_info": {
   "codemirror_mode": {
    "name": "ipython",
    "version": 3
   },
   "file_extension": ".py",
   "mimetype": "text/x-python",
   "name": "python",
   "nbconvert_exporter": "python",
   "pygments_lexer": "ipython3",
   "version": "3.11.7"
  }
 },
 "nbformat": 4,
 "nbformat_minor": 2
}
