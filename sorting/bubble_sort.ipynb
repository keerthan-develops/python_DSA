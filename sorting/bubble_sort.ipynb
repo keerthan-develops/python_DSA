{
 "cells": [
  {
   "cell_type": "code",
   "execution_count": null,
   "metadata": {},
   "outputs": [],
   "source": [
    "%md\n",
    "# print(bubble_sort([4,2,6,5,1,3]))\n",
    "\"\"\"\n",
    "    EXPECTED OUTPUT:\n",
    "    ----------------\n",
    "    [1, 2, 3, 4, 5, 6]\n",
    " \"\"\"\n",
    "\n",
    "\"\"\" Bubble sort takes values as a pair \n",
    "    First finds the maximum value over a loop and places it at the end\n",
    "    Then find second maxumum at second last position\n",
    "    Go on until the first element\n",
    "    Loop through backwards because, first element has n-1 number of comparisions, second n-2, third n-2 and so on\n",
    "\"\"\""
   ]
  },
  {
   "cell_type": "code",
   "execution_count": 1,
   "metadata": {},
   "outputs": [],
   "source": [
    "l = [4,2,6,5,1,3]"
   ]
  },
  {
   "cell_type": "code",
   "execution_count": 7,
   "metadata": {},
   "outputs": [
    {
     "name": "stdout",
     "output_type": "stream",
     "text": [
      "[1, 2, 3, 4, 5, 6]\n"
     ]
    }
   ],
   "source": [
    "def bubble_sort(l):\n",
    "    for i in range(len(l) - 1, 0, -1):\n",
    "        for j in range(0, i):\n",
    "            if l[j] > l[j+1]:\n",
    "                temp = l[j+1]\n",
    "                l[j+1] = l[j]\n",
    "                l[j] = temp\n",
    "            else:\n",
    "                continue\n",
    "    return l\n",
    "\n",
    "l = [4,2,6,5,1,3]\n",
    "print(bubble_sort(l))"
   ]
  },
  {
   "cell_type": "code",
   "execution_count": null,
   "metadata": {},
   "outputs": [],
   "source": []
  }
 ],
 "metadata": {
  "kernelspec": {
   "display_name": "base",
   "language": "python",
   "name": "python3"
  },
  "language_info": {
   "codemirror_mode": {
    "name": "ipython",
    "version": 3
   },
   "file_extension": ".py",
   "mimetype": "text/x-python",
   "name": "python",
   "nbconvert_exporter": "python",
   "pygments_lexer": "ipython3",
   "version": "3.11.7"
  }
 },
 "nbformat": 4,
 "nbformat_minor": 2
}
