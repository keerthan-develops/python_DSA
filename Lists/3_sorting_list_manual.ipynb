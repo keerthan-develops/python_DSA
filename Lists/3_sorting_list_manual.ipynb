{
 "cells": [
  {
   "cell_type": "code",
   "execution_count": null,
   "metadata": {},
   "outputs": [],
   "source": [
    "import numpy as np\n",
    "myList = [7, 1, 3, 4, 9, 5]\n",
    "arr = np.array(myList)\n",
    "print(arr)"
   ]
  },
  {
   "cell_type": "code",
   "execution_count": null,
   "metadata": {},
   "outputs": [],
   "source": [
    "# sorting a list/array using list\n",
    "\n",
    "print(myList)\n",
    "idx1 = 0\n",
    "num1 = 0\n",
    "list_tg = []\n",
    "\n",
    "for idx2, num2 in enumerate(arr, 0):\n",
    "    \n",
    "    print(idx2, num2)\n",
    "    print(idx1, num1)\n",
    "\n",
    "    if idx2 == 0:\n",
    "        list_tg.append(num2)\n",
    "        num1 = num2\n",
    "    \n",
    "    elif num2 >= num1:\n",
    "        list_tg.append(num2)\n",
    "        num1 = num2\n",
    "    else:\n",
    "        print(len(list_tg))\n",
    "        for idx_hist, i in enumerate(list_tg, 0):\n",
    "            print(idx_hist, i)\n",
    "            if i > num2:\n",
    "                list_tg.insert(idx_hist, num2)\n",
    "                break\n",
    "            \n",
    "        num1 = num1\n",
    "    \n",
    "    idx1 = idx2\n",
    "    print(list_tg)\n",
    "    "
   ]
  },
  {
   "cell_type": "code",
   "execution_count": 27,
   "metadata": {},
   "outputs": [
    {
     "name": "stdout",
     "output_type": "stream",
     "text": [
      "[7, 1, 3, 4, 9, 5]\n",
      "[]\n",
      "0 7\n",
      "0 0\n",
      "[7.]\n",
      "1 1\n",
      "0 7\n",
      "1\n",
      "0 7.0\n",
      "[1. 7.]\n",
      "2 3\n",
      "1 7\n",
      "2\n",
      "0 1.0\n",
      "1 7.0\n",
      "[1. 3. 7.]\n",
      "3 4\n",
      "2 7\n",
      "3\n",
      "0 1.0\n",
      "1 3.0\n",
      "2 7.0\n",
      "[1. 3. 4. 7.]\n",
      "4 9\n",
      "3 7\n",
      "[1. 3. 4. 7. 9.]\n",
      "5 5\n",
      "4 9\n",
      "5\n",
      "0 1.0\n",
      "1 3.0\n",
      "2 4.0\n",
      "3 7.0\n",
      "[1. 3. 4. 5. 7. 9.]\n"
     ]
    }
   ],
   "source": [
    "# Sorting a list/array using an numpy array\n",
    "\n",
    "print(myList)\n",
    "idx1 = 0\n",
    "num1 = 0\n",
    "list_tg = []\n",
    "np_arr = np.array([])\n",
    "print(np_arr)\n",
    "\n",
    "for idx2, num2 in enumerate(arr, 0):\n",
    "    \n",
    "    print(idx2, num2)\n",
    "    print(idx1, num1)\n",
    "\n",
    "    if idx2 == 0:\n",
    "        np_arr = np.append(np_arr, num2)\n",
    "        num1 = num2\n",
    "    \n",
    "    elif num2 >= num1:\n",
    "        np_arr = np.append(np_arr, num2)\n",
    "        num1 = num2\n",
    "    else:\n",
    "        print(len(np_arr))\n",
    "        for idx_hist, i in enumerate(np_arr, 0):\n",
    "            print(idx_hist, i)\n",
    "            if i > num2:\n",
    "                np_arr = np.insert(np_arr, idx_hist, num2)\n",
    "                break\n",
    "            \n",
    "        num1 = num1\n",
    "    \n",
    "    idx1 = idx2\n",
    "    print(np_arr)\n",
    "    "
   ]
  },
  {
   "cell_type": "code",
   "execution_count": null,
   "metadata": {},
   "outputs": [],
   "source": []
  }
 ],
 "metadata": {
  "kernelspec": {
   "display_name": "base",
   "language": "python",
   "name": "python3"
  },
  "language_info": {
   "codemirror_mode": {
    "name": "ipython",
    "version": 3
   },
   "file_extension": ".py",
   "mimetype": "text/x-python",
   "name": "python",
   "nbconvert_exporter": "python",
   "pygments_lexer": "ipython3",
   "version": "3.11.7"
  }
 },
 "nbformat": 4,
 "nbformat_minor": 2
}
