{
 "cells": [
  {
   "cell_type": "code",
   "execution_count": 1,
   "metadata": {},
   "outputs": [
    {
     "data": {
      "text/plain": [
       "\" Define a function with takes two dictionaries as parameters and merge them and sum the values of common keys.\\nExample:\\ndict1 = {'a': 1, 'b': 2, 'c': 3}\\ndict2 = {'b': 3, 'c': 4, 'd': 5}\\nmerge_dicts(dict1, dict2)\\nOutput:\\n{'a': 1, 'b': 5, 'c': 7, 'd': 5}\\n\""
      ]
     },
     "execution_count": 1,
     "metadata": {},
     "output_type": "execute_result"
    }
   ],
   "source": [
    "\"\"\" Define a function with takes two dictionaries as parameters and merge them and sum the values of common keys.\n",
    "Example:\n",
    "dict1 = {'a': 1, 'b': 2, 'c': 3}\n",
    "dict2 = {'b': 3, 'c': 4, 'd': 5}\n",
    "merge_dicts(dict1, dict2)\n",
    "Output:\n",
    "{'a': 1, 'b': 5, 'c': 7, 'd': 5}\n",
    "\"\"\""
   ]
  },
  {
   "cell_type": "code",
   "execution_count": 10,
   "metadata": {},
   "outputs": [
    {
     "name": "stdout",
     "output_type": "stream",
     "text": [
      "a b\n",
      "a c\n",
      "a d\n",
      "b b\n",
      "b c\n",
      "b d\n",
      "c b\n",
      "c c\n",
      "c d\n",
      "{'a': 1, 'b': 5, 'c': 7, 'd': 5}\n"
     ]
    }
   ],
   "source": [
    "dict1 = {'a': 1, 'b': 2, 'c': 3}\n",
    "dict2 = {'b': 3, 'c': 4, 'd': 5}\n",
    "\n",
    "def merge_dicts(dict1, dict2):\n",
    "    dict_merge = {}\n",
    "    for k1 in dict1:\n",
    "        matched = False\n",
    "        for k2 in dict2:\n",
    "            print(k1, k2)\n",
    "            if k1 == k2:\n",
    "                dict_merge[k1] = dict1[k1] + dict2[k2]\n",
    "                matched = True\n",
    "        if not matched:\n",
    "            dict_merge[k1] = dict1[k1]\n",
    "    for k2 in dict2:\n",
    "        if k2 not in dict_merge:\n",
    "            dict_merge[k2] = dict2[k2]\n",
    "            \n",
    "\n",
    "    return dict_merge\n",
    "print(merge_dicts(dict1, dict2))"
   ]
  },
  {
   "cell_type": "code",
   "execution_count": 13,
   "metadata": {},
   "outputs": [
    {
     "name": "stdout",
     "output_type": "stream",
     "text": [
      "{'a': 1, 'b': 5, 'c': 7, 'd': 5}\n"
     ]
    }
   ],
   "source": [
    "\n",
    "dict1 = {'a': 1, 'b': 2, 'c': 3}\n",
    "dict2 = {'b': 3, 'c': 4, 'd': 5}\n",
    "\n",
    "def merge_dicts(dict1, dict2):\n",
    "    result = dict1.copy()\n",
    "    for key, value in dict2.items():\n",
    "        result[key] = result.get(key, 0) + value\n",
    "    return result\n",
    "\n",
    "print(merge_dicts(dict1, dict2))"
   ]
  },
  {
   "cell_type": "code",
   "execution_count": null,
   "metadata": {},
   "outputs": [],
   "source": []
  }
 ],
 "metadata": {
  "kernelspec": {
   "display_name": "base",
   "language": "python",
   "name": "python3"
  },
  "language_info": {
   "codemirror_mode": {
    "name": "ipython",
    "version": 3
   },
   "file_extension": ".py",
   "mimetype": "text/x-python",
   "name": "python",
   "nbconvert_exporter": "python",
   "pygments_lexer": "ipython3",
   "version": "3.11.7"
  }
 },
 "nbformat": 4,
 "nbformat_minor": 2
}
