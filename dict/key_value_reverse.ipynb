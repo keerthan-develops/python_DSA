{
 "cells": [
  {
   "cell_type": "code",
   "execution_count": 1,
   "metadata": {},
   "outputs": [
    {
     "data": {
      "text/plain": [
       "\"\\nExample:\\nmy_dict = {'a': 1, 'b': 2, 'c': 3}\\nreverse_dict(my_dict)\\nOutput:\\n{1: 'a', 2: 'b', 3: 'c'}\\n\""
      ]
     },
     "execution_count": 1,
     "metadata": {},
     "output_type": "execute_result"
    }
   ],
   "source": [
    "'''\n",
    "Example:\n",
    "my_dict = {'a': 1, 'b': 2, 'c': 3}\n",
    "reverse_dict(my_dict)\n",
    "Output:\n",
    "{1: 'a', 2: 'b', 3: 'c'}\n",
    "'''"
   ]
  },
  {
   "cell_type": "code",
   "execution_count": 3,
   "metadata": {},
   "outputs": [
    {
     "name": "stdout",
     "output_type": "stream",
     "text": [
      "{1: 'a', 2: 'b', 3: 'c'}\n"
     ]
    }
   ],
   "source": [
    "def reverse_dict(d):\n",
    "    d2 = dict([])\n",
    "    for k, v in d.items():\n",
    "        d2[v] = k\n",
    "    return d2\n",
    "my_dict = {'a': 1, 'b': 2, 'c': 3}\n",
    "print(reverse_dict(my_dict))\n"
   ]
  },
  {
   "cell_type": "code",
   "execution_count": 7,
   "metadata": {},
   "outputs": [
    {
     "name": "stdout",
     "output_type": "stream",
     "text": [
      "{1: 'a', 2: 'b', 3: 'c'}\n",
      "[[1, 'a'], [2, 'b'], [3, 'c']]\n"
     ]
    }
   ],
   "source": [
    "# Another way\n",
    "def rev_dict(my_dict):\n",
    "    return {v: k for k, v in my_dict.items()}\n",
    "print(rev_dict(my_dict))\n",
    "\n",
    "l = [[v,k] for k,v in my_dict.items()]\n",
    "print(l)"
   ]
  },
  {
   "cell_type": "code",
   "execution_count": null,
   "metadata": {},
   "outputs": [],
   "source": []
  }
 ],
 "metadata": {
  "kernelspec": {
   "display_name": "base",
   "language": "python",
   "name": "python3"
  },
  "language_info": {
   "codemirror_mode": {
    "name": "ipython",
    "version": 3
   },
   "file_extension": ".py",
   "mimetype": "text/x-python",
   "name": "python",
   "nbconvert_exporter": "python",
   "pygments_lexer": "ipython3",
   "version": "3.11.7"
  }
 },
 "nbformat": 4,
 "nbformat_minor": 2
}
