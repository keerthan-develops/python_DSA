{
 "cells": [
  {
   "cell_type": "code",
   "execution_count": 1,
   "metadata": {},
   "outputs": [
    {
     "data": {
      "text/plain": [
       "\"\\nmy_dict = {'a': 1, 'b': 2, 'c': 3, 'd': 4} \\nfiltered_dict = filter_dict(my_dict, lambda k, v: v % 2 == 0) \\n\""
      ]
     },
     "execution_count": 1,
     "metadata": {},
     "output_type": "execute_result"
    }
   ],
   "source": [
    "\"\"\"\n",
    "my_dict = {'a': 1, 'b': 2, 'c': 3, 'd': 4} \n",
    "filtered_dict = filter_dict(my_dict, lambda k, v: v % 2 == 0) \n",
    "\"\"\""
   ]
  },
  {
   "cell_type": "code",
   "execution_count": 2,
   "metadata": {},
   "outputs": [
    {
     "name": "stdout",
     "output_type": "stream",
     "text": [
      "{'a': 0.5, 'b': 1.0, 'c': 1.5, 'd': 2.0}\n"
     ]
    }
   ],
   "source": [
    "my_dict = {'a': 1, 'b': 2, 'c': 3, 'd': 4}\n",
    "\n",
    "dict_mod = {k: v/2 for k,v in my_dict.items()}\n",
    "print(dict_mod)"
   ]
  },
  {
   "cell_type": "code",
   "execution_count": 13,
   "metadata": {},
   "outputs": [
    {
     "name": "stdout",
     "output_type": "stream",
     "text": [
      "[2, 4, 6, 8, 10, 12, 14]\n",
      "3\n",
      "6\n",
      "9\n",
      "12\n",
      "15\n",
      "18\n",
      "21\n",
      "(1, 2)\n",
      "(2, 3)\n",
      "(3, 4)\n",
      "(4, 5)\n"
     ]
    }
   ],
   "source": [
    "l = [1,2,3,4,5,6,7]\n",
    "\n",
    "l2 = [x*2 for x in l]\n",
    "print(l2)\n",
    "\n",
    "l3 = map(lambda x: x*3, l)\n",
    "for x in l3:\n",
    "    print(x)\n",
    "\n",
    "l4 = map(lambda x, y: (l[x], l[y+1]), range(0,4), range(0,4))\n",
    "for x in l4:\n",
    "    print(x)"
   ]
  },
  {
   "cell_type": "code",
   "execution_count": 14,
   "metadata": {},
   "outputs": [],
   "source": [
    "def filter_dict(my_dict, condition):\n",
    "    return {k: v for k, v in my_dict.items() if condition(k, v)}\n",
    "\n",
    "filter_dict(my_dict, )"
   ]
  },
  {
   "cell_type": "code",
   "execution_count": null,
   "metadata": {},
   "outputs": [],
   "source": []
  }
 ],
 "metadata": {
  "kernelspec": {
   "display_name": "base",
   "language": "python",
   "name": "python3"
  },
  "language_info": {
   "codemirror_mode": {
    "name": "ipython",
    "version": 3
   },
   "file_extension": ".py",
   "mimetype": "text/x-python",
   "name": "python",
   "nbconvert_exporter": "python",
   "pygments_lexer": "ipython3",
   "version": "3.1.-1"
  }
 },
 "nbformat": 4,
 "nbformat_minor": 2
}
