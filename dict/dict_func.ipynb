{
 "cells": [
  {
   "cell_type": "code",
   "execution_count": 17,
   "metadata": {},
   "outputs": [
    {
     "name": "stdout",
     "output_type": "stream",
     "text": [
      "{'one': 1, 'two': 2, 'three': 3}\n",
      "2\n",
      "{'one': 1, 'two': 2, 'three': 3, 'four': 4}\n",
      "{'one': 1, 'two': 2, 'three': 3}\n",
      "{'one': 1, 'two': 4, 'three': 3}\n",
      "None\n",
      "4\n",
      "<class 'dict_keys'>\n",
      "dict_values([1, 4, 3])\n",
      "dict_items([('one', 1), ('two', 4), ('three', 3)])\n",
      "\n"
     ]
    }
   ],
   "source": [
    "list = [('one', 1), ('two', 2),  ('three', 3)]\n",
    "myDict = dict(list)\n",
    "print(myDict)\n",
    "\n",
    "print(myDict['two'])\n",
    "\n",
    "myDict['four'] = 4\n",
    "print(myDict)\n",
    "\n",
    "del myDict['four']\n",
    "print(myDict)\n",
    "\n",
    "myDict['two'] = 4\n",
    "print(myDict)\n",
    "\n",
    "print(myDict.get('ab'))\n",
    "print(myDict.get('two'))\n",
    "\n",
    "print(type(myDict.keys()))\n",
    "\n",
    "print(myDict.values())\n",
    "\n",
    "print(myDict.items())\n",
    "\n",
    "print()"
   ]
  },
  {
   "cell_type": "code",
   "execution_count": 18,
   "metadata": {},
   "outputs": [
    {
     "name": "stdout",
     "output_type": "stream",
     "text": [
      "one\n",
      "two\n",
      "three\n"
     ]
    }
   ],
   "source": [
    "for i in myDict.keys():\n",
    "    print(i)"
   ]
  },
  {
   "cell_type": "code",
   "execution_count": null,
   "metadata": {},
   "outputs": [],
   "source": []
  }
 ],
 "metadata": {
  "kernelspec": {
   "display_name": "base",
   "language": "python",
   "name": "python3"
  },
  "language_info": {
   "codemirror_mode": {
    "name": "ipython",
    "version": 3
   },
   "file_extension": ".py",
   "mimetype": "text/x-python",
   "name": "python",
   "nbconvert_exporter": "python",
   "pygments_lexer": "ipython3",
   "version": "3.11.7"
  }
 },
 "nbformat": 4,
 "nbformat_minor": 2
}
