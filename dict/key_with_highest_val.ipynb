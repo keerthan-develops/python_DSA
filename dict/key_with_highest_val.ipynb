{
 "cells": [
  {
   "cell_type": "code",
   "execution_count": 1,
   "metadata": {},
   "outputs": [
    {
     "data": {
      "text/plain": [
       "\"\\nDefine a function which takes a dictionary as a parameter and returns the key with the highest value in a dictionary.\\nExample:\\nmy_dict = {'a': 5, 'b': 9, 'c': 2}\\nmax_value_key(my_dict))\\nOutput: b\\n\""
      ]
     },
     "execution_count": 1,
     "metadata": {},
     "output_type": "execute_result"
    }
   ],
   "source": [
    "\"\"\"\n",
    "Define a function which takes a dictionary as a parameter and returns the key with the highest value in a dictionary.\n",
    "Example:\n",
    "my_dict = {'a': 5, 'b': 9, 'c': 2}\n",
    "max_value_key(my_dict))\n",
    "Output: b\n",
    "\"\"\""
   ]
  },
  {
   "cell_type": "code",
   "execution_count": 2,
   "metadata": {},
   "outputs": [
    {
     "name": "stdout",
     "output_type": "stream",
     "text": [
      "[5, 2, 9]\n"
     ]
    }
   ],
   "source": [
    "my_dict = {'a': 5, 'b': 9, 'c': 2}\n",
    "\n",
    "def max_value_key(my_dict):\n",
    "    i = 1\n",
    "    while i < 2:\n",
    "        val_list = list(my_dict.values())\n",
    "        i += 1\n",
    "        for j in range(0, len(val_list) - 1):\n",
    "            if val_list[j] > val_list[j+1]:\n",
    "                temp = val_list[j]\n",
    "                val_list[j] = val_list[j+1]\n",
    "                val_list[j+1] = temp\n",
    "    \n",
    "    \n",
    "    return val_list\n",
    "print(max_value_key(my_dict))"
   ]
  },
  {
   "cell_type": "code",
   "execution_count": 3,
   "metadata": {},
   "outputs": [
    {
     "name": "stdout",
     "output_type": "stream",
     "text": [
      "c\n"
     ]
    }
   ],
   "source": [
    "# Optimal way of doing this\n",
    "\n",
    "my_dict = {'a': 5, 'b': 9, 'c': 100}\n",
    "\n",
    "def max_value_key(my_dict):\n",
    "    max = 0\n",
    "    for k, v in my_dict.items():\n",
    "        if v > max:\n",
    "            max = v\n",
    "            key = k\n",
    "    \n",
    "    return key\n",
    "print(max_value_key(my_dict))"
   ]
  }
 ],
 "metadata": {
  "kernelspec": {
   "display_name": "base",
   "language": "python",
   "name": "python3"
  },
  "language_info": {
   "codemirror_mode": {
    "name": "ipython",
    "version": 3
   },
   "file_extension": ".py",
   "mimetype": "text/x-python",
   "name": "python",
   "nbconvert_exporter": "python",
   "pygments_lexer": "ipython3",
   "version": "3.11.7"
  }
 },
 "nbformat": 4,
 "nbformat_minor": 2
}
