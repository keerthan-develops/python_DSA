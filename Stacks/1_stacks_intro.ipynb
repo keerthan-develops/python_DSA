{
 "cells": [
  {
   "cell_type": "code",
   "execution_count": 11,
   "metadata": {},
   "outputs": [
    {
     "name": "stdout",
     "output_type": "stream",
     "text": [
      "30\n",
      "20\n",
      "10\n",
      "20\n",
      "10\n"
     ]
    },
    {
     "data": {
      "text/plain": [
       "True"
      ]
     },
     "execution_count": 11,
     "metadata": {},
     "output_type": "execute_result"
    }
   ],
   "source": [
    "class Node:\n",
    "    def __init__(self, value):\n",
    "        self.value = value\n",
    "        self.next = None\n",
    "\n",
    "class Stack:\n",
    "    def __init__(self):\n",
    "        self.top = None\n",
    "        # self.bottom = None  you do not need this as you will be pushing and poping from the head(top) side of the Stack(LinkedList)\n",
    "        self.length = 0\n",
    "\n",
    "    def __init__(self, value):\n",
    "        new_node = Node(value)\n",
    "        self.top = new_node\n",
    "        # self.bottom = new_node you do not need this as you will be pushing and poping from the head(top) side of the Stack(LinkedList)\n",
    "        self.length = 1\n",
    "\n",
    "    def push(self, value):\n",
    "        new_node = Node(value)\n",
    "        if self.length == 0:\n",
    "            self.top = new_node\n",
    "        else:        \n",
    "            new_node.next = self.top\n",
    "            self.top = new_node\n",
    "        self.length += 1\n",
    "        return True\n",
    "    \n",
    "    def pop(self):\n",
    "        if self.length == 0:\n",
    "            return None\n",
    "        if self.length == 1:\n",
    "            popped_node = self.top\n",
    "            self.top = None            \n",
    "            return popped_node\n",
    "        else:\n",
    "            popped_node = self.top\n",
    "            self.top = popped_node.next\n",
    "            popped_node.next = None\n",
    "        self.length -= 1\n",
    "        return popped_node\n",
    "\n",
    "    def print_stack(self):\n",
    "        current_node = self.top\n",
    "        while current_node is not None:\n",
    "            print(current_node.value)\n",
    "            current_node = current_node.next\n",
    "        return True\n",
    "\n",
    "stack = Stack(10)\n",
    "stack.push(20)\n",
    "stack.push(30)\n",
    "stack.print_stack()\n",
    "stack.pop()\n",
    "stack.print_stack()"
   ]
  },
  {
   "cell_type": "code",
   "execution_count": null,
   "metadata": {},
   "outputs": [],
   "source": []
  }
 ],
 "metadata": {
  "kernelspec": {
   "display_name": "base",
   "language": "python",
   "name": "python3"
  },
  "language_info": {
   "codemirror_mode": {
    "name": "ipython",
    "version": 3
   },
   "file_extension": ".py",
   "mimetype": "text/x-python",
   "name": "python",
   "nbconvert_exporter": "python",
   "pygments_lexer": "ipython3",
   "version": "3.1.-1"
  }
 },
 "nbformat": 4,
 "nbformat_minor": 2
}
