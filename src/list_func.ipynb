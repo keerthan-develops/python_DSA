{
 "cells": [
  {
   "cell_type": "code",
   "execution_count": 23,
   "metadata": {},
   "outputs": [
    {
     "name": "stdout",
     "output_type": "stream",
     "text": [
      "2\n",
      "[6, 4, 3, 2, 'a', 'b']\n"
     ]
    }
   ],
   "source": [
    "l = [2, 1, 3, 4]\n",
    "\n",
    "l.append(6)\n",
    "l.pop(1)  # pop either takes no arg and removes last item or takes index as arg\n",
    "\n",
    "l.sort()\n",
    "l.reverse()\n",
    "l.insert(1, 10)\n",
    "\n",
    "l[1] = 3\n",
    "print(l.count(3))\n",
    "\n",
    "l.remove(3)\n",
    "\n",
    "l.extend(['a', 'b'])\n",
    "print(l)"
   ]
  },
  {
   "cell_type": "code",
   "execution_count": null,
   "metadata": {},
   "outputs": [],
   "source": []
  }
 ],
 "metadata": {
  "kernelspec": {
   "display_name": "base",
   "language": "python",
   "name": "python3"
  },
  "language_info": {
   "codemirror_mode": {
    "name": "ipython",
    "version": 3
   },
   "file_extension": ".py",
   "mimetype": "text/x-python",
   "name": "python",
   "nbconvert_exporter": "python",
   "pygments_lexer": "ipython3",
   "version": "3.11.7"
  }
 },
 "nbformat": 4,
 "nbformat_minor": 2
}
