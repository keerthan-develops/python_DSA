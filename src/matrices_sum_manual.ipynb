{
 "cells": [
  {
   "cell_type": "code",
   "execution_count": 14,
   "metadata": {},
   "outputs": [],
   "source": [
    "import numpy as np\n",
    "l = [[1,2,3],[4,5,6],[7,8,9]]\n",
    "l2 = [[1,2,3],[4,5,6],[7,8,9]]"
   ]
  },
  {
   "cell_type": "code",
   "execution_count": 15,
   "metadata": {},
   "outputs": [
    {
     "name": "stdout",
     "output_type": "stream",
     "text": [
      "[2]\n",
      "[2, 4]\n",
      "[2, 4, 6]\n",
      "[8]\n",
      "[8, 10]\n",
      "[8, 10, 12]\n",
      "[14]\n",
      "[14, 16]\n",
      "[14, 16, 18]\n",
      "[ 2.  8. 14. 16. 18. 10. 12.  4.  6.]\n"
     ]
    }
   ],
   "source": [
    "# Numpy array functions operations\n",
    "m = np.array(l)\n",
    "n = np.array(l2)\n",
    "l = []\n",
    "res = np.array(l)\n",
    "\n",
    "for i in range(0, len(m)):\n",
    "    res_list = []\n",
    "    for j in range(0, len(m[0])):\n",
    "        val_sum = m[i][j] + n[i][j]\n",
    "        res_list.append(val_sum)\n",
    "        print(res_list)\n",
    "    res = np.insert(res, i, res_list, axis=0)\n",
    "\n",
    "print(res)\n"
   ]
  },
  {
   "cell_type": "code",
   "execution_count": null,
   "metadata": {},
   "outputs": [],
   "source": []
  }
 ],
 "metadata": {
  "kernelspec": {
   "display_name": "base",
   "language": "python",
   "name": "python3"
  },
  "language_info": {
   "codemirror_mode": {
    "name": "ipython",
    "version": 3
   },
   "file_extension": ".py",
   "mimetype": "text/x-python",
   "name": "python",
   "nbconvert_exporter": "python",
   "pygments_lexer": "ipython3",
   "version": "3.11.7"
  }
 },
 "nbformat": 4,
 "nbformat_minor": 2
}
