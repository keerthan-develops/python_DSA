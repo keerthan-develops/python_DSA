{
 "cells": [
  {
   "cell_type": "code",
   "execution_count": 7,
   "metadata": {},
   "outputs": [
    {
     "name": "stdout",
     "output_type": "stream",
     "text": [
      "[[1 2 3]\n",
      " [4 5 6]\n",
      " [7 8 9]]\n"
     ]
    }
   ],
   "source": [
    "import numpy as np\n",
    "myList2D = [[1,2,3],[4,5,6],[7,8,9]] \n",
    "#myList2D2 = [[1,2,3,4],[4,5,6,7],[7,8,9,10]] \n",
    "\n",
    "arr = np.array(myList2D)\n",
    "#arr = np.array(myList2D2)\n",
    "\n",
    "print(arr)\n"
   ]
  },
  {
   "cell_type": "code",
   "execution_count": 21,
   "metadata": {},
   "outputs": [
    {
     "name": "stdout",
     "output_type": "stream",
     "text": [
      "0 0\n",
      "1\n",
      "1 0\n",
      "1 1\n",
      "6\n",
      "2 0\n",
      "2 1\n",
      "2 2\n",
      "15\n",
      "15\n"
     ]
    }
   ],
   "source": [
    "# How I did but time complexity is O(n**2)\n",
    "sum = 0\n",
    "for rid in range(0, len(arr)):\n",
    "    for cid in range(0, len(arr[0])):\n",
    "        print(rid, cid)\n",
    "        if rid == cid:\n",
    "            val = arr[rid][cid]\n",
    "            sum += val\n",
    "            print(sum)\n",
    "            break\n",
    "print(sum)"
   ]
  },
  {
   "cell_type": "code",
   "execution_count": 25,
   "metadata": {},
   "outputs": [
    {
     "name": "stdout",
     "output_type": "stream",
     "text": [
      "15\n",
      "3.0\n"
     ]
    }
   ],
   "source": [
    "# Efficient way\n",
    "sum = 0\n",
    "for i in range(0, len(arr)):\n",
    "    sum = sum + arr[i][i]\n",
    "\n",
    "print(sum)\n",
    "print(9**0.5)"
   ]
  },
  {
   "cell_type": "code",
   "execution_count": null,
   "metadata": {},
   "outputs": [],
   "source": []
  }
 ],
 "metadata": {
  "kernelspec": {
   "display_name": "base",
   "language": "python",
   "name": "python3"
  },
  "language_info": {
   "codemirror_mode": {
    "name": "ipython",
    "version": 3
   },
   "file_extension": ".py",
   "mimetype": "text/x-python",
   "name": "python",
   "nbconvert_exporter": "python",
   "pygments_lexer": "ipython3",
   "version": "3.1.-1"
  }
 },
 "nbformat": 4,
 "nbformat_minor": 2
}
