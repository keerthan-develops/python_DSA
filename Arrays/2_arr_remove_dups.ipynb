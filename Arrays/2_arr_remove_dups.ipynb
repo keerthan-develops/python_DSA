{
 "cells": [
  {
   "cell_type": "code",
   "execution_count": 12,
   "metadata": {},
   "outputs": [
    {
     "name": "stdout",
     "output_type": "stream",
     "text": [
      "[1, 1, 2, 2, 3, 4]\n",
      "[1, 1, 2, 3, 4]\n",
      "[1, 1, 3, 4]\n"
     ]
    }
   ],
   "source": [
    "l = [1, 1, 2, 2, 3, 4, 5]\n",
    "\n",
    "# remove command removed only one occurance which is first occuring one\n",
    "l.remove(5)\n",
    "print(l)\n",
    "\n",
    "# delete command\n",
    "del l[2]\n",
    "print(l)\n",
    "\n",
    "# pop command\n",
    "l.pop(2)\n",
    "print(l)\n",
    "\n",
    "l = [1, 1, 2, 2, 3, 4, 5]"
   ]
  },
  {
   "cell_type": "code",
   "execution_count": 19,
   "metadata": {},
   "outputs": [
    {
     "name": "stdout",
     "output_type": "stream",
     "text": [
      "[1, 1, 2, 2, 3, 4, 5]\n",
      "[1, 2, 3, 4, 5]\n"
     ]
    }
   ],
   "source": [
    "l = [1, 1, 2, 2, 3, 4, 5]\n",
    "print(l)\n",
    "l2 = []\n",
    "idx = 0\n",
    "for idx, i in enumerate(l, 0):\n",
    "    if l.count(i) > 1:\n",
    "        l.pop(i)\n",
    "print(l)\n",
    "    \n",
    "\n"
   ]
  },
  {
   "cell_type": "code",
   "execution_count": 20,
   "metadata": {},
   "outputs": [
    {
     "name": "stdout",
     "output_type": "stream",
     "text": [
      "[1, 1, 2, 2, 3, 4, 5]\n",
      "[1, 2, 3, 4, 5]\n"
     ]
    }
   ],
   "source": [
    "# efficient way\n",
    "l = [1, 1, 2, 2, 3, 4, 5]\n",
    "print(l)\n",
    "unq_l = []\n",
    "\n",
    "for i in l:\n",
    "    if i not in unq_l:\n",
    "        unq_l.append(i)\n",
    "print(unq_l)"
   ]
  },
  {
   "cell_type": "code",
   "execution_count": null,
   "metadata": {},
   "outputs": [],
   "source": []
  }
 ],
 "metadata": {
  "kernelspec": {
   "display_name": "base",
   "language": "python",
   "name": "python3"
  },
  "language_info": {
   "codemirror_mode": {
    "name": "ipython",
    "version": 3
   },
   "file_extension": ".py",
   "mimetype": "text/x-python",
   "name": "python",
   "nbconvert_exporter": "python",
   "pygments_lexer": "ipython3",
   "version": "3.1.-1"
  }
 },
 "nbformat": 4,
 "nbformat_minor": 2
}
