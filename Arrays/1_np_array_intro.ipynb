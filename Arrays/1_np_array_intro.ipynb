{
 "cells": [
  {
   "cell_type": "code",
   "execution_count": 1,
   "metadata": {},
   "outputs": [],
   "source": [
    "import numpy as np"
   ]
  },
  {
   "cell_type": "code",
   "execution_count": 45,
   "metadata": {},
   "outputs": [
    {
     "name": "stdout",
     "output_type": "stream",
     "text": [
      "[[1 2 3]\n",
      " [1 2 3]]\n",
      "[[4 5 6]\n",
      " [1 2 3]\n",
      " [1 2 3]]\n",
      "[[1 7 2 3]\n",
      " [1 8 2 3]]\n",
      "[[1 7 2 3]]\n"
     ]
    }
   ],
   "source": [
    "# Create an 1-D array\n",
    "arr = np.array([1,2,3])\n",
    "#print(arr)\n",
    "\n",
    "# Create a 2-D array\n",
    "arr2d = np.array([[1,2,3], [1,2,3]])\n",
    "print(arr2d)\n",
    "\n",
    "#2d Array functions\n",
    "\n",
    "arr2d2 = np.insert(arr2d, 0, [4,5,6], axis=0)\n",
    "print(arr2d2)\n",
    "\n",
    "arr2d3 = np.insert(arr2d, 1, [7,8], axis=1)\n",
    "print(arr2d3)\n",
    "\n",
    "rm = np.delete(arr2d3, [1], axis=0)\n",
    "print(rm)"
   ]
  },
  {
   "cell_type": "code",
   "execution_count": 52,
   "metadata": {},
   "outputs": [
    {
     "name": "stdout",
     "output_type": "stream",
     "text": [
      "[[1 2 3]\n",
      " [1 2 3]]\n",
      "2\n",
      "3\n"
     ]
    }
   ],
   "source": [
    "# length of an array\n",
    "print(arr2d)\n",
    "print(len(arr2d))\n",
    "print(len(arr2d[0]))"
   ]
  },
  {
   "cell_type": "code",
   "execution_count": 54,
   "metadata": {},
   "outputs": [
    {
     "name": "stdout",
     "output_type": "stream",
     "text": [
      "0\n",
      "0 0\n",
      "0 1\n",
      "0 2\n",
      "1\n",
      "1 0\n",
      "1 1\n",
      "1 2\n"
     ]
    }
   ],
   "source": [
    "# Traversing through 2d array\n",
    "for rid in range(0, len(arr2d)):\n",
    "    print(rid)\n",
    "    for cid in range(0, len(arr2d[0])):\n",
    "        print(rid, cid)"
   ]
  },
  {
   "cell_type": "code",
   "execution_count": 63,
   "metadata": {},
   "outputs": [
    {
     "name": "stdout",
     "output_type": "stream",
     "text": [
      "[[1 7 2 3]\n",
      " [1 8 2 3]]\n",
      "element not present\n",
      "element not present\n",
      "element not present\n",
      "element not present\n",
      "element not present\n",
      "1 1\n",
      "element not present\n",
      "element not present\n"
     ]
    }
   ],
   "source": [
    "# Searching for an item in the array\n",
    "[1,2,3].index(3)\n",
    "\n",
    "print(arr2d3)\n",
    "# Searching an element in a 2d array is done using traversal for linear search algorithm\n",
    "for rid in range(0, len(arr2d3)):\n",
    "    for cid in range(0, len(arr2d3[0])):\n",
    "        if arr2d3[rid][cid] == 8:\n",
    "            print(rid, cid)\n",
    "        else:\n",
    "            print('element not present')\n"
   ]
  },
  {
   "cell_type": "code",
   "execution_count": 67,
   "metadata": {},
   "outputs": [
    {
     "name": "stdout",
     "output_type": "stream",
     "text": [
      "[[1 8 2 3]]\n",
      "[[7 2 3]\n",
      " [8 2 3]]\n"
     ]
    }
   ],
   "source": [
    "# Deleting a row/column in an array (in numpy arrays, it returns a new array with deleted row/column)\n",
    "# Time/space complexity of modification of array can be full and not O(1) as it creates a new array \n",
    "\n",
    "# Row delete\n",
    "arr2d4 = np.delete(arr2d3, 0, axis=0)\n",
    "print(arr2d4)\n",
    "\n",
    "# Column delete\n",
    "arr2d4 = np.delete(arr2d3, 0, axis=1)\n",
    "print(arr2d4)"
   ]
  },
  {
   "cell_type": "code",
   "execution_count": 2,
   "metadata": {},
   "outputs": [],
   "source": [
    "arr_c = np.array([1,2,3])"
   ]
  },
  {
   "cell_type": "code",
   "execution_count": 4,
   "metadata": {},
   "outputs": [
    {
     "data": {
      "text/plain": [
       "array([1, 2, 3, 4])"
      ]
     },
     "execution_count": 4,
     "metadata": {},
     "output_type": "execute_result"
    }
   ],
   "source": [
    "# Numpy array immutable example\n",
    "np.insert(arr_c, 3, 4)"
   ]
  },
  {
   "cell_type": "code",
   "execution_count": 5,
   "metadata": {},
   "outputs": [
    {
     "data": {
      "text/plain": [
       "array([1, 2, 3])"
      ]
     },
     "execution_count": 5,
     "metadata": {},
     "output_type": "execute_result"
    }
   ],
   "source": [
    "arr_c"
   ]
  },
  {
   "cell_type": "code",
   "execution_count": 8,
   "metadata": {},
   "outputs": [
    {
     "data": {
      "text/plain": [
       "array([[1, 2, 3],\n",
       "       [4, 5, 6]])"
      ]
     },
     "execution_count": 8,
     "metadata": {},
     "output_type": "execute_result"
    }
   ],
   "source": [
    "a_2d = np.array(([1,2,3], [4,5,6]))\n",
    "a_2d"
   ]
  },
  {
   "cell_type": "code",
   "execution_count": 9,
   "metadata": {},
   "outputs": [
    {
     "data": {
      "text/plain": [
       "array([[1, 2, 3],\n",
       "       [4, 5, 6],\n",
       "       [7, 8, 9]])"
      ]
     },
     "execution_count": 9,
     "metadata": {},
     "output_type": "execute_result"
    }
   ],
   "source": [
    "np.insert(a_2d, 2, [7,8,9], axis=0)"
   ]
  },
  {
   "cell_type": "code",
   "execution_count": 10,
   "metadata": {},
   "outputs": [
    {
     "data": {
      "text/plain": [
       "array([[1, 2, 3, 4],\n",
       "       [4, 5, 6, 7]])"
      ]
     },
     "execution_count": 10,
     "metadata": {},
     "output_type": "execute_result"
    }
   ],
   "source": [
    "np.insert(a_2d, 3, [4, 7], axis=1)"
   ]
  },
  {
   "cell_type": "code",
   "execution_count": 13,
   "metadata": {},
   "outputs": [
    {
     "data": {
      "text/plain": [
       "array([[1, 2, 3, 1],\n",
       "       [4, 5, 6, 2]])"
      ]
     },
     "execution_count": 13,
     "metadata": {},
     "output_type": "execute_result"
    }
   ],
   "source": [
    "# Array column insert takes either equal or lesser number of elements, if lesser then it repeats but never takes more\n",
    "np.insert(a_2d, 3, [1, 2], axis=1)"
   ]
  },
  {
   "cell_type": "code",
   "execution_count": null,
   "metadata": {},
   "outputs": [],
   "source": []
  }
 ],
 "metadata": {
  "kernelspec": {
   "display_name": "base",
   "language": "python",
   "name": "python3"
  },
  "language_info": {
   "codemirror_mode": {
    "name": "ipython",
    "version": 3
   },
   "file_extension": ".py",
   "mimetype": "text/x-python",
   "name": "python",
   "nbconvert_exporter": "python",
   "pygments_lexer": "ipython3",
   "version": "3.11.7"
  }
 },
 "nbformat": 4,
 "nbformat_minor": 2
}
