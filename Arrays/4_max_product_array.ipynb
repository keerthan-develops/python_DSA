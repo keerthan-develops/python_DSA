{
 "cells": [
  {
   "cell_type": "code",
   "execution_count": 2,
   "metadata": {},
   "outputs": [
    {
     "name": "stdout",
     "output_type": "stream",
     "text": [
      "[7 1 3 4 9 5]\n"
     ]
    }
   ],
   "source": [
    "import numpy as np\n",
    "myList = [7, 1, 3, 4, 9, 5]\n",
    "arr = np.array(myList)\n",
    "print(arr)"
   ]
  },
  {
   "cell_type": "code",
   "execution_count": 3,
   "metadata": {},
   "outputs": [
    {
     "name": "stdout",
     "output_type": "stream",
     "text": [
      "7\n",
      "7 0\n",
      "1\n",
      "7 1\n",
      "3\n",
      "7 3\n",
      "4\n",
      "7 4\n",
      "9\n",
      "9 7\n",
      "5\n",
      "9 7\n",
      "63\n"
     ]
    }
   ],
   "source": [
    "max1 = 0\n",
    "max2 = 0\n",
    "\n",
    "for idx, num in enumerate(myList, 0):\n",
    "    print(num)\n",
    "    if num > max1:\n",
    "        max2 = max1\n",
    "        max1 = num\n",
    "    elif num > max2:\n",
    "        max2 = num\n",
    "    \n",
    "    print(max1, max2)\n",
    "\n",
    "print(max1*max2)"
   ]
  },
  {
   "cell_type": "code",
   "execution_count": null,
   "metadata": {},
   "outputs": [],
   "source": []
  }
 ],
 "metadata": {
  "kernelspec": {
   "display_name": "base",
   "language": "python",
   "name": "python3"
  },
  "language_info": {
   "codemirror_mode": {
    "name": "ipython",
    "version": 3
   },
   "file_extension": ".py",
   "mimetype": "text/x-python",
   "name": "python",
   "nbconvert_exporter": "python",
   "pygments_lexer": "ipython3",
   "version": "3.1.-1"
  }
 },
 "nbformat": 4,
 "nbformat_minor": 2
}
