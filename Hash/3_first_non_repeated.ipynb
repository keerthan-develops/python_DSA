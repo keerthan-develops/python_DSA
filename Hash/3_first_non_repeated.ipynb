{
 "cells": [
  {
   "cell_type": "code",
   "execution_count": 2,
   "metadata": {},
   "outputs": [
    {
     "name": "stdout",
     "output_type": "stream",
     "text": [
      "l\n",
      "h\n",
      "None\n"
     ]
    }
   ],
   "source": [
    "def first_non_repeating_char(string):\n",
    "    char_counts = {}\n",
    "    for char in string:\n",
    "        char_counts[char] = char_counts.get(char, 0) + 1\n",
    "    for char in string:\n",
    "        if char_counts[char] == 1:\n",
    "            return char\n",
    "    return None\n",
    "\n",
    "print( first_non_repeating_char('leetcode') )\n",
    "print( first_non_repeating_char('hello') )\n",
    "print( first_non_repeating_char('aabbcc') )"
   ]
  }
 ],
 "metadata": {
  "kernelspec": {
   "display_name": "base",
   "language": "python",
   "name": "python3"
  },
  "language_info": {
   "codemirror_mode": {
    "name": "ipython",
    "version": 3
   },
   "file_extension": ".py",
   "mimetype": "text/x-python",
   "name": "python",
   "nbconvert_exporter": "python",
   "pygments_lexer": "ipython3",
   "version": "3.11.7"
  }
 },
 "nbformat": 4,
 "nbformat_minor": 2
}
