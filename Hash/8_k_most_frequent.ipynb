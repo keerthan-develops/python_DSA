{
 "cells": [
  {
   "cell_type": "code",
   "execution_count": null,
   "metadata": {},
   "outputs": [],
   "source": [
    "def topKFrequent(self, nums: List[int], k: int) -> List[int]:\n",
    "    #freq_list = [] * (len(nums) + 1)\n",
    "    freq_list = [[] for i in range(len(nums) + 1)]\n",
    "    print(freq_list)\n",
    "    count_dict = {}\n",
    "    for num in nums:\n",
    "        count_dict[num] = count_dict.get(num, 0) + 1\n",
    "    for num, count in count_dict.items():\n",
    "        print(f'num = {num}, count = {count}')\n",
    "        freq_list[count].append(num)\n",
    "    res = []\n",
    "    print(freq_list)\n",
    "    for i in range(len(freq_list) -1, 0, -1):\n",
    "        for j in freq_list[i]:\n",
    "            res.append(j)\n",
    "            if len(res) == k:\n",
    "                return res"
   ]
  },
  {
   "cell_type": "code",
   "execution_count": 3,
   "metadata": {},
   "outputs": [
    {
     "name": "stdout",
     "output_type": "stream",
     "text": [
      "[[], [], [], [], [], [], []]\n"
     ]
    }
   ],
   "source": [
    "nums = [1,2,2,3,3,3]\n",
    "freq_list = [[]] * (len(nums) + 1)\n",
    "print(freq_list)\n"
   ]
  },
  {
   "cell_type": "code",
   "execution_count": 4,
   "metadata": {},
   "outputs": [
    {
     "name": "stdout",
     "output_type": "stream",
     "text": [
      "[[], [], [], [], [], [], []]\n"
     ]
    }
   ],
   "source": [
    "nums = [1,2,2,3,3,3]\n",
    "freq_list2 = [[] for i in range(len(nums) + 1)]\n",
    "print(freq_list2)"
   ]
  },
  {
   "cell_type": "code",
   "execution_count": null,
   "metadata": {},
   "outputs": [],
   "source": []
  }
 ],
 "metadata": {
  "kernelspec": {
   "display_name": "base",
   "language": "python",
   "name": "python3"
  },
  "language_info": {
   "codemirror_mode": {
    "name": "ipython",
    "version": 3
   },
   "file_extension": ".py",
   "mimetype": "text/x-python",
   "name": "python",
   "nbconvert_exporter": "python",
   "pygments_lexer": "ipython3",
   "version": "3.11.7"
  }
 },
 "nbformat": 4,
 "nbformat_minor": 2
}
