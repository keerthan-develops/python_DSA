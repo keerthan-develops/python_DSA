{
 "cells": [
  {
   "cell_type": "code",
   "execution_count": 1,
   "metadata": {},
   "outputs": [
    {
     "name": "stdout",
     "output_type": "stream",
     "text": [
      "1st set:\n",
      "True\n",
      "\n",
      "2nd set:\n",
      "True\n",
      "\n",
      "3rd set:\n",
      "True\n"
     ]
    }
   ],
   "source": [
    "# Neetcode way for 2 strings\n",
    "def group_anagrams(strings):\n",
    "    s = \"racecar\" \n",
    "    t = \"carrace\"\n",
    "    if len(s) != len(t):\n",
    "        return False\n",
    "    hashS = {}\n",
    "    hashT = {}\n",
    "    for i in range(len(s)):\n",
    "        hashS[s[i]] = hashS.get(s[i], 0) + 1\n",
    "        hashT[t[i]] = hashT.get(t[i], 0) + 1\n",
    "    return hashS == hashT\n",
    "\n",
    "\n",
    "print(\"1st set:\")\n",
    "print( group_anagrams([\"eat\", \"tea\", \"tan\", \"ate\", \"nat\", \"bat\"]) )\n",
    "print(\"\\n2nd set:\")\n",
    "print( group_anagrams([\"abc\", \"cba\", \"bac\", \"foo\", \"bar\"]) )\n",
    "print(\"\\n3rd set:\")\n",
    "print( group_anagrams([\"listen\", \"silent\", \"triangle\", \"integral\", \"garden\", \"ranged\"]) )\n"
   ]
  },
  {
   "cell_type": "code",
   "execution_count": null,
   "metadata": {},
   "outputs": [],
   "source": []
  }
 ],
 "metadata": {
  "kernelspec": {
   "display_name": "base",
   "language": "python",
   "name": "python3"
  },
  "language_info": {
   "codemirror_mode": {
    "name": "ipython",
    "version": 3
   },
   "file_extension": ".py",
   "mimetype": "text/x-python",
   "name": "python",
   "nbconvert_exporter": "python",
   "pygments_lexer": "ipython3",
   "version": "3.11.7"
  }
 },
 "nbformat": 4,
 "nbformat_minor": 2
}
