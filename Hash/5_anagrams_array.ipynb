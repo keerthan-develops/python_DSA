{
 "cells": [
  {
   "cell_type": "code",
   "execution_count": 3,
   "metadata": {},
   "outputs": [
    {
     "name": "stdout",
     "output_type": "stream",
     "text": [
      "dict_values([['eat', 'tea', 'ate'], ['tan', 'nat'], ['bat']])\n"
     ]
    }
   ],
   "source": [
    "# Neetcode way\n",
    "from collections import defaultdict\n",
    "\n",
    "def groupAnagrams(strs):\n",
    "    ans = defaultdict(list)\n",
    "    for s in strs:\n",
    "        count = [0] * 26\n",
    "        for c in s:\n",
    "            count[ord(c) - ord(\"a\")] += 1\n",
    "        ans[tuple(count)].append(s)\n",
    "    return ans.values()\n",
    "\n",
    "print( groupAnagrams([\"eat\", \"tea\", \"tan\", \"ate\", \"nat\", \"bat\"]) )\n"
   ]
  },
  {
   "cell_type": "code",
   "execution_count": null,
   "metadata": {},
   "outputs": [],
   "source": [
    "# Udemy optimised way\n",
    "def group_anagrams(strings):\n",
    "    anagram_groups = {}\n",
    "    for string in strings:\n",
    "        canonical = ''.join(sorted(string))\n",
    "        if canonical in anagram_groups:\n",
    "            anagram_groups[canonical].append(string)\n",
    "        else:\n",
    "            anagram_groups[canonical] = [string]\n",
    "    return anagram_groups.values()\n",
    "\n",
    "print(\"1st set:\")\n",
    "print( group_anagrams([\"eat\", \"tea\", \"tan\", \"ate\", \"nat\", \"bat\"]) )\n",
    "print(\"\\n2nd set:\")\n",
    "print( group_anagrams([\"abc\", \"cba\", \"bac\", \"foo\", \"bar\"]) )\n",
    "print(\"\\n3rd set:\")\n",
    "print( group_anagrams([\"listen\", \"silent\", \"triangle\", \"integral\", \"garden\", \"ranged\"]) )"
   ]
  },
  {
   "cell_type": "code",
   "execution_count": null,
   "metadata": {},
   "outputs": [],
   "source": [
    "# My logic not optimised\n",
    "def group_anagrams(strings):\n",
    "    parent_list = []\n",
    "    added_list = []\n",
    "    \n",
    "    for i in range(len(strings)):\n",
    "        child_list = []\n",
    "        str_dict = {}\n",
    "        string = strings[i]\n",
    "        if strings[i] in added_list:\n",
    "            print(f'{strings[i]} already added')\n",
    "            continue\n",
    "        child_list.append(string)\n",
    "        added_list.append(string)\n",
    "        for char in string:\n",
    "            str_dict[char] = str_dict.get(char, 0) + 1\n",
    "        \n",
    "        for j in range(len(strings)):\n",
    "            print(f'{i} and {j} comparision check')\n",
    "            if i == j:\n",
    "                print(f'{i} == {j} so no comparision')\n",
    "                continue\n",
    "            comp_str_dict = {}\n",
    "            comp_string = strings[j]\n",
    "            for comp_char in comp_string:\n",
    "                comp_str_dict[comp_char] = comp_str_dict.get(comp_char, 0) + 1\n",
    "            if comp_str_dict == str_dict:                \n",
    "                child_list.append(comp_string)\n",
    "                added_list.append(comp_string)\n",
    "            print(child_list)\n",
    "                \n",
    "        print(f'child_list for {i} which has string {strings[i]} is {child_list}')    \n",
    "        parent_list.append(child_list)\n",
    "    print(parent_list)\n",
    "    return parent_list\n",
    "\n",
    "print(\"1st set:\")\n",
    "print( group_anagrams([\"eat\", \"tea\", \"tan\", \"ate\", \"nat\", \"bat\"]) )\n",
    "print(\"\\n2nd set:\")\n",
    "print( group_anagrams([\"abc\", \"cba\", \"bac\", \"foo\", \"bar\"]) )\n",
    "print(\"\\n3rd set:\")\n",
    "print( group_anagrams([\"listen\", \"silent\", \"triangle\", \"integral\", \"garden\", \"ranged\"]) )"
   ]
  }
 ],
 "metadata": {
  "kernelspec": {
   "display_name": "base",
   "language": "python",
   "name": "python3"
  },
  "language_info": {
   "codemirror_mode": {
    "name": "ipython",
    "version": 3
   },
   "file_extension": ".py",
   "mimetype": "text/x-python",
   "name": "python",
   "nbconvert_exporter": "python",
   "pygments_lexer": "ipython3",
   "version": "3.11.7"
  }
 },
 "nbformat": 4,
 "nbformat_minor": 2
}
