{
 "cells": [
  {
   "cell_type": "code",
   "execution_count": null,
   "metadata": {},
   "outputs": [],
   "source": [
    "def two_sum(nums, target):\n",
    "    # create an empty hash table\n",
    "    num_map = {}\n",
    " \n",
    "    # iterate through each number in the array\n",
    "    for i, num in enumerate(nums):\n",
    "        # calculate the complement of the current number\n",
    "        complement = target - num\n",
    " \n",
    "        # check if the complement is in the hash table\n",
    "        if complement in num_map:\n",
    "            # if it is, return the indices of the two numbers\n",
    "            return [num_map[complement], i]\n",
    " \n",
    "        # add the current number and its index to the hash table\n",
    "        num_map[num] = i\n",
    " \n",
    "    # if no two numbers add up to the target, return an empty list\n",
    "    return []\n",
    "\n",
    "print(two_sum([5, 1, 7, 2, 8, 3], 10))  \n",
    "print(two_sum([4, 2, 11, 7, 6, 3], 9))  \n",
    "print(two_sum([10, 15, 5, 2, 8, 1, 7], 12))  \n",
    "print(two_sum([1, 3, 5, 7, 9], 10))  \n",
    "print ( two_sum([1, 2, 3, 4, 5], 10) )\n",
    "print ( two_sum([1, 2, 3, 4, 5], 7) )\n",
    "print ( two_sum([1, 2, 3, 4, 5], 3) )\n",
    "print ( two_sum([], 0) )\n"
   ]
  }
 ],
 "metadata": {
  "language_info": {
   "name": "python"
  }
 },
 "nbformat": 4,
 "nbformat_minor": 2
}
