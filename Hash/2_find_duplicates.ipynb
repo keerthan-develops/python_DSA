{
 "cells": [
  {
   "cell_type": "code",
   "execution_count": null,
   "metadata": {},
   "outputs": [],
   "source": [
    "# Udemy course method\n",
    "def find_duplicates(nums):\n",
    "    nums_count = {}\n",
    "    duplicates = []\n",
    "    for num in nums:\n",
    "        nums_count[num] = nums_count.get(num, 0) + 1\n",
    "    \n",
    "    for num, count in nums_count.items():\n",
    "        if count > 1:\n",
    "            duplicates.append(num)\n",
    "    return duplicates\n",
    "\n",
    "print ( find_duplicates([1, 2, 3, 4, 5]) )\n",
    "print ( find_duplicates([1, 1, 2, 2, 3]) )\n",
    "print ( find_duplicates([1, 1, 1, 1, 1]) )\n",
    "print ( find_duplicates([1, 2, 3, 3, 3, 4, 4, 5]) )\n",
    "print ( find_duplicates([1, 1, 2, 2, 2, 3, 3, 3, 3]) )\n",
    "print ( find_duplicates([1, 1, 1, 2, 2, 2, 3, 3, 3, 3]) )\n",
    "print ( find_duplicates([]) )\n"
   ]
  },
  {
   "cell_type": "code",
   "execution_count": null,
   "metadata": {},
   "outputs": [],
   "source": [
    "# My method using hash(dict) \n",
    "def find_duplicates(l):\n",
    "    my_dict = {}\n",
    "    dup = []\n",
    "    for i in l:\n",
    "        if my_dict.get(i) is None:\n",
    "            my_dict[i] = True\n",
    "        else:\n",
    "            dup.append(i)\n",
    "    return dup\n",
    "\n",
    "print ( find_duplicates([1, 2, 3, 4, 5]) )\n",
    "print ( find_duplicates([1, 1, 2, 2, 3]) )\n",
    "print ( find_duplicates([1, 1, 1, 1, 1]) )\n",
    "print ( find_duplicates([1, 2, 3, 3, 3, 4, 4, 5]) )\n",
    "print ( find_duplicates([1, 1, 2, 2, 2, 3, 3, 3, 3]) )\n",
    "print ( find_duplicates([1, 1, 1, 2, 2, 2, 3, 3, 3, 3]) )\n",
    "print ( find_duplicates([]) )\n"
   ]
  },
  {
   "cell_type": "code",
   "execution_count": null,
   "metadata": {},
   "outputs": [],
   "source": [
    "# If no knowledge of hash\n",
    "def find_duplicates(l):\n",
    "    l2 = []\n",
    "    l3 = []\n",
    "    for i in range(len(l)):\n",
    "        dup = False\n",
    "        for j in range(len(l)):\n",
    "            if i == j:\n",
    "                pass\n",
    "            if l[i] == l[j] and j < i:\n",
    "                dup = True\n",
    "        if dup:\n",
    "            l2.append(l[i])\n",
    "        if not dup:\n",
    "            l3.append(l[i])\n",
    "    print(f'for {l} -> {l3}')\n",
    "    return l2\n",
    "\n",
    "print ( find_duplicates([1, 2, 3, 4, 5]) )\n",
    "print ( find_duplicates([1, 1, 2, 2, 3]) )\n",
    "print ( find_duplicates([1, 1, 1, 1, 1]) )\n",
    "print ( find_duplicates([1, 2, 3, 3, 3, 4, 4, 5]) )\n",
    "print ( find_duplicates([1, 1, 2, 2, 2, 3, 3, 3, 3]) )\n",
    "print ( find_duplicates([1, 1, 1, 2, 2, 2, 3, 3, 3, 3]) )\n",
    "print ( find_duplicates([]) )"
   ]
  },
  {
   "cell_type": "code",
   "execution_count": null,
   "metadata": {},
   "outputs": [],
   "source": []
  }
 ],
 "metadata": {
  "kernelspec": {
   "display_name": "base",
   "language": "python",
   "name": "python3"
  },
  "language_info": {
   "codemirror_mode": {
    "name": "ipython",
    "version": 3
   },
   "file_extension": ".py",
   "mimetype": "text/x-python",
   "name": "python",
   "nbconvert_exporter": "python",
   "pygments_lexer": "ipython3",
   "version": "3.11.7"
  }
 },
 "nbformat": 4,
 "nbformat_minor": 2
}
