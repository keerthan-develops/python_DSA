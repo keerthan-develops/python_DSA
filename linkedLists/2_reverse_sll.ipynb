{
 "cells": [
  {
   "cell_type": "code",
   "execution_count": 46,
   "metadata": {},
   "outputs": [],
   "source": [
    "class Node:\n",
    "    def __init__(self, value):\n",
    "        self.value = value\n",
    "        self.next = None\n",
    "\n",
    "class LinkedList:\n",
    "    def __init__(self, value):\n",
    "        new_node = Node(value)\n",
    "        self.head = new_node\n",
    "        self.tail = new_node\n",
    "        self.length = 1\n",
    "\n",
    "    def __str__(self):\n",
    "        temp_node = self.head\n",
    "        result = ''\n",
    "        while temp_node is not None:\n",
    "            result += str(temp_node.value)\n",
    "            if temp_node.next is not None:\n",
    "                result = result + ' ->'\n",
    "            temp_node = temp_node.next\n",
    "        return result\n",
    "    \n",
    "    def traverse(self):                                  # 0(n)\n",
    "        current = self.head                     # 0(1)\n",
    "        while current is not None:                      # 0(n)\n",
    "            print(current.value)                # 0(1)\n",
    "            current = current.next              # 0(1)\n",
    "        return True\n",
    "\n",
    "    def append(self, value):\n",
    "        new_node = Node(value)\n",
    "        if self.head is None:\n",
    "            self.head = self.tail = new_node\n",
    "        else:\n",
    "            self.tail.next = new_node\n",
    "            self.tail = new_node\n",
    "        self.length += 1\n",
    "        return True\n",
    "    \n",
    "    def prepend(self, value):\n",
    "        new_node = Node(value)\n",
    "        if self.head is None:\n",
    "            self.head = self.tail = new_node\n",
    "        else:\n",
    "            new_node.next = self.head\n",
    "            self.head = new_node\n",
    "        self.length += 1\n",
    "        return True\n",
    "    \n",
    "    def insert(self, index, value):\n",
    "        if index < -1 or index > self.length:\n",
    "            return None\n",
    "        new_node = Node(value)\n",
    "        if self.head is None:\n",
    "            self.head = self.tail = new_node\n",
    "        elif index == 0:\n",
    "            new_node.next = self.head\n",
    "            self.head = new_node\n",
    "        elif index == self.length or index == -1:\n",
    "            self.tail.next = new_node\n",
    "            self.tail = new_node\n",
    "        else:\n",
    "            temp_node = self.head\n",
    "            for _ in range(0, index-1):\n",
    "                temp_node = temp_node.next\n",
    "            new_node.next = temp_node.next\n",
    "            temp_node.next = new_node\n",
    "        self.length += 1\n",
    "        return True        \n",
    "\n",
    "    def reverse(self):\n",
    "        prev_node = None\n",
    "        current_node = self.head\n",
    "        while current_node is not None:\n",
    "            next_node = current_node.next\n",
    "            current_node.next = prev_node\n",
    "            prev_node = current_node\n",
    "            current_node = next_node\n",
    "        self.head, self.tail = self.tail, self.head\n",
    "    \n",
    "    # my try\n",
    "    def reverse_my(self):                \n",
    "        ll2 = LinkedList(self.tail.value)        \n",
    "        print(f'self.length = {self.length}')\n",
    "        for index in range(self.length -1, -1, -1):\n",
    "            print(f'index = {index}')\n",
    "            if index == self.length -1:\n",
    "                #ll2 = LinkedList(self.tail.value)\n",
    "                print(f'index = self.length - 1 -> {self.length -1} so PASS')\n",
    "                pass\n",
    "            elif index == 0:\n",
    "                    ll2.append(self.head.value)\n",
    "                    print(f'index = {index} so primary ll head append')\n",
    "            else:                                                    \n",
    "                temp_node = self.head\n",
    "                for _ in range(0, index):\n",
    "                    temp_node = temp_node.next\n",
    "                ll2.append(temp_node.value)\n",
    "                print(f'index = {index} so else append with temp_node.value {temp_node.value}')\n",
    "        return ll2  \n",
    "\n"
   ]
  },
  {
   "cell_type": "code",
   "execution_count": 47,
   "metadata": {},
   "outputs": [
    {
     "name": "stdout",
     "output_type": "stream",
     "text": [
      "60\n",
      "50\n",
      "40\n",
      "30\n",
      "20\n",
      "10\n"
     ]
    },
    {
     "data": {
      "text/plain": [
       "True"
      ]
     },
     "execution_count": 47,
     "metadata": {},
     "output_type": "execute_result"
    }
   ],
   "source": [
    "ll = LinkedList(10)\n",
    "ll.append(30)\n",
    "ll.append(40)\n",
    "ll.append(50)\n",
    "ll.append(60)\n",
    "ll.insert(1, 20)\n",
    "ll.reverse()\n",
    "ll.traverse()\n",
    "\n",
    "#ll2 = ll.reverse_my()\n",
    "#ll2.traverse()\n",
    "#print(ll)"
   ]
  },
  {
   "cell_type": "code",
   "execution_count": 15,
   "metadata": {},
   "outputs": [
    {
     "name": "stdout",
     "output_type": "stream",
     "text": [
      "4\n",
      "3\n",
      "2\n",
      "1\n",
      "0\n"
     ]
    }
   ],
   "source": [
    "for i in range(4, -1, -1):\n",
    "    print(i)\n",
    "\n"
   ]
  },
  {
   "cell_type": "code",
   "execution_count": 16,
   "metadata": {},
   "outputs": [],
   "source": [
    "for i in range(0, 0):\n",
    "    print(i)"
   ]
  },
  {
   "cell_type": "code",
   "execution_count": null,
   "metadata": {},
   "outputs": [],
   "source": []
  }
 ],
 "metadata": {
  "kernelspec": {
   "display_name": "base",
   "language": "python",
   "name": "python3"
  },
  "language_info": {
   "codemirror_mode": {
    "name": "ipython",
    "version": 3
   },
   "file_extension": ".py",
   "mimetype": "text/x-python",
   "name": "python",
   "nbconvert_exporter": "python",
   "pygments_lexer": "ipython3",
   "version": "3.11.7"
  }
 },
 "nbformat": 4,
 "nbformat_minor": 2
}
