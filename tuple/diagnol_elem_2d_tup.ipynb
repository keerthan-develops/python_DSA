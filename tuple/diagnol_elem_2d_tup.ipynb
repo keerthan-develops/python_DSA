{
 "cells": [
  {
   "cell_type": "code",
   "execution_count": null,
   "metadata": {},
   "outputs": [],
   "source": [
    "input_tuple = (\n",
    "    (1, 2, 3),\n",
    "    (4, 5, 6),\n",
    "    (7, 8, 9)\n",
    ")\n",
    "output_tuple = get_diagonal(input_tuple)\n",
    "print(output_tuple)  # Expected output: (1, 5, 9)"
   ]
  },
  {
   "cell_type": "code",
   "execution_count": 13,
   "metadata": {},
   "outputs": [
    {
     "name": "stdout",
     "output_type": "stream",
     "text": [
      "<generator object get_diagnol_elem.<locals>.<genexpr> at 0x11bdae500>\n"
     ]
    }
   ],
   "source": [
    "def get_diagnol_elem(t):\n",
    "    out_tuple = (lambda i: t[i][i] for i in range(0, len(t)))\n",
    "    return tuple(out_tuple)\n",
    "\n",
    "input_tuple = (\n",
    "    (1, 2, 3),\n",
    "    (4, 5, 6),\n",
    "    (7, 8, 9)\n",
    ")\n",
    "print(get_diagnol_elem(input_tuple))"
   ]
  },
  {
   "cell_type": "code",
   "execution_count": 10,
   "metadata": {},
   "outputs": [
    {
     "name": "stdout",
     "output_type": "stream",
     "text": [
      "1\n",
      "[1.]\n",
      "5\n",
      "[1. 5.]\n",
      "9\n",
      "[1. 5. 9.]\n",
      "[1. 5. 9.]\n"
     ]
    }
   ],
   "source": [
    "import numpy as np\n",
    "def get_diagnol_elem(t):\n",
    "    arr = np.array(t)\n",
    "    out_arr = np.array([])\n",
    "    for i in range(0, len(arr)):\n",
    "        print(arr[i][i])\n",
    "        out_arr = np.insert(out_arr,  i, arr[i][i], axis=0)\n",
    "        print(out_arr)\n",
    "    return out_arr\n",
    "\n",
    "input_tuple = (\n",
    "    (1, 2, 3),\n",
    "    (4, 5, 6),\n",
    "    (7, 8, 9)\n",
    ")\n",
    "print(get_diagnol_elem(input_tuple))"
   ]
  },
  {
   "cell_type": "code",
   "execution_count": null,
   "metadata": {},
   "outputs": [],
   "source": []
  }
 ],
 "metadata": {
  "kernelspec": {
   "display_name": "base",
   "language": "python",
   "name": "python3"
  },
  "language_info": {
   "codemirror_mode": {
    "name": "ipython",
    "version": 3
   },
   "file_extension": ".py",
   "mimetype": "text/x-python",
   "name": "python",
   "nbconvert_exporter": "python",
   "pygments_lexer": "ipython3",
   "version": "3.11.7"
  }
 },
 "nbformat": 4,
 "nbformat_minor": 2
}
