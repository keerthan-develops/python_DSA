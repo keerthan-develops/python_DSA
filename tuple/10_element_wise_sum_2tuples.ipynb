{
 "cells": [
  {
   "cell_type": "code",
   "execution_count": null,
   "metadata": {},
   "outputs": [],
   "source": [
    "tuple1 = (1, 2, 3)\n",
    "tuple2 = (4, 5, 6)\n",
    "output_tuple = tuple_elementwise_sum(tuple1, tuple2)\n",
    "print(output_tuple)  # Expected output: (5, 7, 9)"
   ]
  },
  {
   "cell_type": "code",
   "execution_count": 13,
   "metadata": {},
   "outputs": [
    {
     "name": "stdout",
     "output_type": "stream",
     "text": [
      "<generator object element_sum.<locals>.<genexpr> at 0x108203ae0>\n"
     ]
    }
   ],
   "source": [
    "def element_sum(t1, t2):\n",
    "    zipped = zip(t1, t2)\n",
    "    l = []\n",
    "    for x, y in zipped:\n",
    "        l.append(x+y)\n",
    "        t_sum = (lambda x,y : x+y for x, y in zipped)\n",
    "    return t_sum\n",
    "t1 = (1, 2, 3)\n",
    "t2 = (4, 5, 6)\n",
    "print(element_sum(t1, t2))"
   ]
  },
  {
   "cell_type": "code",
   "execution_count": null,
   "metadata": {},
   "outputs": [],
   "source": [
    "# solution 2\n",
    "def tuple_elementwise_sum(tuple1, tuple2):\n",
    "    return tuple(map(sum, zip(tuple1, tuple2)))"
   ]
  },
  {
   "cell_type": "code",
   "execution_count": 6,
   "metadata": {},
   "outputs": [
    {
     "name": "stdout",
     "output_type": "stream",
     "text": [
      "<class 'zip'>\n",
      "('Manjeet', 4)\n",
      "('Nikhil', 1)\n",
      "('Shambhavi', 3)\n",
      "('Astha', 2)\n"
     ]
    }
   ],
   "source": [
    "# zip example\n",
    "\n",
    "name = [ \"Manjeet\", \"Nikhil\", \"Shambhavi\", \"Astha\" ]\n",
    "roll_no = [ 4, 1, 3, 2, 5 ]\n",
    " \n",
    "# using zip() to map values\n",
    "mapped = zip(name, roll_no)\n",
    "print(type(mapped))\n",
    "for i in mapped:\n",
    "    print(i)"
   ]
  },
  {
   "cell_type": "code",
   "execution_count": 18,
   "metadata": {},
   "outputs": [
    {
     "name": "stdout",
     "output_type": "stream",
     "text": [
      "<zip object at 0x10eea0880>\n",
      "i :  (1, 2) j :  ('a', 'b')\n",
      "i :  (3, 4) j :  ('c', 'd')\n"
     ]
    }
   ],
   "source": [
    "# Multi dimension zip\n",
    "t1 = ((1,2), (3,4))\n",
    "t2 = (('a','b'), ('c','d'))\n",
    "\n",
    "zipped2 = zip(t1, t2)\n",
    "print(zipped2)\n",
    "for i, j in zipped2:\n",
    "    print('i : ', i, 'j : ', j)"
   ]
  },
  {
   "cell_type": "code",
   "execution_count": null,
   "metadata": {},
   "outputs": [],
   "source": []
  }
 ],
 "metadata": {
  "kernelspec": {
   "display_name": "base",
   "language": "python",
   "name": "python3"
  },
  "language_info": {
   "codemirror_mode": {
    "name": "ipython",
    "version": 3
   },
   "file_extension": ".py",
   "mimetype": "text/x-python",
   "name": "python",
   "nbconvert_exporter": "python",
   "pygments_lexer": "ipython3",
   "version": "3.1.-1"
  }
 },
 "nbformat": 4,
 "nbformat_minor": 2
}
