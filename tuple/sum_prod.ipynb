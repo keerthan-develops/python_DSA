{
 "cells": [
  {
   "cell_type": "code",
   "execution_count": null,
   "metadata": {},
   "outputs": [],
   "source": [
    "input_tuple = (1, 2, 3, 4)\n",
    "sum_result, product_result = sum_product(input_tuple)\n",
    "print(sum_result, product_result)  # Expected output: 10, 24"
   ]
  },
  {
   "cell_type": "code",
   "execution_count": 8,
   "metadata": {},
   "outputs": [
    {
     "name": "stdout",
     "output_type": "stream",
     "text": [
      "<generator object sum_prod.<locals>.<genexpr> at 0x104753ca0>\n"
     ]
    },
    {
     "data": {
      "text/plain": [
       "(10, 24)"
      ]
     },
     "execution_count": 8,
     "metadata": {},
     "output_type": "execute_result"
    }
   ],
   "source": [
    "def sum_prod(t):\n",
    "    print((sum(x) for x in t))\n",
    "    sum_val = sum(t)\n",
    "    def product(t):\n",
    "        prod = 1\n",
    "        for x in t:\n",
    "            prod = prod * x\n",
    "        return prod\n",
    "    \n",
    "    return sum_val, product(t)\n",
    "\n",
    "input_tuple = (1, 2, 3, 4)\n",
    "sum_prod(input_tuple)"
   ]
  },
  {
   "cell_type": "code",
   "execution_count": null,
   "metadata": {},
   "outputs": [],
   "source": []
  }
 ],
 "metadata": {
  "kernelspec": {
   "display_name": "base",
   "language": "python",
   "name": "python3"
  },
  "language_info": {
   "codemirror_mode": {
    "name": "ipython",
    "version": 3
   },
   "file_extension": ".py",
   "mimetype": "text/x-python",
   "name": "python",
   "nbconvert_exporter": "python",
   "pygments_lexer": "ipython3",
   "version": "3.11.7"
  }
 },
 "nbformat": 4,
 "nbformat_minor": 2
}
