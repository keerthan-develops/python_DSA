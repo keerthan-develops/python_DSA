{
 "cells": [
  {
   "cell_type": "code",
   "execution_count": null,
   "metadata": {},
   "outputs": [],
   "source": [
    "'''\n",
    "input_tuple = (2, 3, 4)\n",
    "value_to_insert = 1\n",
    "output_tuple = insert_value_front(input_tuple, value_to_insert)\n",
    "print(output_tuple)  # Expected output: (1, 2, 3, 4)\n",
    "'''"
   ]
  },
  {
   "cell_type": "code",
   "execution_count": 2,
   "metadata": {},
   "outputs": [
    {
     "name": "stdout",
     "output_type": "stream",
     "text": [
      "(1, 2, 3, 4)\n"
     ]
    }
   ],
   "source": [
    "def insert_value_at_beginning(input_tuple, value_to_insert):\n",
    "    return (value_to_insert,) + input_tuple\n",
    "\n",
    "input_tuple = (2, 3, 4)\n",
    "value_to_insert = 1\n",
    "output_tuple = insert_value_at_beginning(input_tuple, value_to_insert)\n",
    "print(output_tuple)"
   ]
  },
  {
   "cell_type": "code",
   "execution_count": null,
   "metadata": {},
   "outputs": [],
   "source": []
  }
 ],
 "metadata": {
  "kernelspec": {
   "display_name": "base",
   "language": "python",
   "name": "python3"
  },
  "language_info": {
   "codemirror_mode": {
    "name": "ipython",
    "version": 3
   },
   "file_extension": ".py",
   "mimetype": "text/x-python",
   "name": "python",
   "nbconvert_exporter": "python",
   "pygments_lexer": "ipython3",
   "version": "3.1.-1"
  }
 },
 "nbformat": 4,
 "nbformat_minor": 2
}
