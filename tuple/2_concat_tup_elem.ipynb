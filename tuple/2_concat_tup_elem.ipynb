{
 "cells": [
  {
   "cell_type": "code",
   "execution_count": null,
   "metadata": {},
   "outputs": [],
   "source": [
    "input_tuple = ('Hello', 'World', 'from', 'Python')\n",
    "output_string = concatenate_strings(input_tuple)\n",
    "print(output_string)  # Expected output: 'Hello World from Python'"
   ]
  },
  {
   "cell_type": "code",
   "execution_count": 1,
   "metadata": {},
   "outputs": [
    {
     "name": "stdout",
     "output_type": "stream",
     "text": [
      " Hello World from Python\n"
     ]
    }
   ],
   "source": [
    "def concat_str(t):\n",
    "    output = ''\n",
    "    for x in t:\n",
    "        output = output + ' ' + x\n",
    "    return output\n",
    "\n",
    "t = ('Hello', 'World', 'from', 'Python')\n",
    "print(concat_str(t))"
   ]
  },
  {
   "cell_type": "code",
   "execution_count": 4,
   "metadata": {},
   "outputs": [
    {
     "name": "stdout",
     "output_type": "stream",
     "text": [
      "HelloabWorldabfromabPython\n"
     ]
    }
   ],
   "source": [
    "# Another way using function \n",
    "\n",
    "output = ' '.join(t)\n",
    "print(output)"
   ]
  },
  {
   "cell_type": "code",
   "execution_count": null,
   "metadata": {},
   "outputs": [],
   "source": []
  }
 ],
 "metadata": {
  "kernelspec": {
   "display_name": "base",
   "language": "python",
   "name": "python3"
  },
  "language_info": {
   "codemirror_mode": {
    "name": "ipython",
    "version": 3
   },
   "file_extension": ".py",
   "mimetype": "text/x-python",
   "name": "python",
   "nbconvert_exporter": "python",
   "pygments_lexer": "ipython3",
   "version": "3.1.-1"
  }
 },
 "nbformat": 4,
 "nbformat_minor": 2
}
