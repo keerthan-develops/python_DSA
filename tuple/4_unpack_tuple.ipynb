{
 "cells": [
  {
   "cell_type": "code",
   "execution_count": 5,
   "metadata": {},
   "outputs": [
    {
     "name": "stdout",
     "output_type": "stream",
     "text": [
      "x:  10 y:  [20, 30, 40] z:  50 a:  60\n"
     ]
    }
   ],
   "source": [
    "tup1 = (10,20,30, 40, 50, 60)\n",
    "x, *y, z, a = tup1\n",
    "print (\"x: \",x, \"y: \", y, 'z: ', z, 'a: ', a)\n"
   ]
  },
  {
   "cell_type": "code",
   "execution_count": 6,
   "metadata": {},
   "outputs": [
    {
     "name": "stdout",
     "output_type": "stream",
     "text": [
      "Joined Tuple: (10, 20, 30, 40, 'one', 'two', 'three', 'four')\n"
     ]
    }
   ],
   "source": [
    "T1 = (10,20,30,40)\n",
    "T2 = ('one', 'two', 'three', 'four')\n",
    "L1, L2 = list(T1), list(T2)\n",
    "\n",
    "# Two loops in list comprehension\n",
    "L3 = [y for x in [L1, L2] for y in x]\n",
    "T3 = tuple(L3)\n",
    "print (\"Joined Tuple:\", T3)"
   ]
  },
  {
   "cell_type": "code",
   "execution_count": 8,
   "metadata": {},
   "outputs": [
    {
     "name": "stdout",
     "output_type": "stream",
     "text": [
      "[10, 20, 30, 40]\n",
      "y = 10\n",
      "y = 20\n",
      "y = 30\n",
      "y = 40\n",
      "['one', 'two', 'three', 'four']\n",
      "y = one\n",
      "y = two\n",
      "y = three\n",
      "y = four\n"
     ]
    }
   ],
   "source": [
    "for x in [L1, L2]:\n",
    "    print(x)\n",
    "    for y in x:\n",
    "        print('y =', y)"
   ]
  },
  {
   "cell_type": "code",
   "execution_count": null,
   "metadata": {},
   "outputs": [],
   "source": []
  }
 ],
 "metadata": {
  "kernelspec": {
   "display_name": "base",
   "language": "python",
   "name": "python3"
  },
  "language_info": {
   "codemirror_mode": {
    "name": "ipython",
    "version": 3
   },
   "file_extension": ".py",
   "mimetype": "text/x-python",
   "name": "python",
   "nbconvert_exporter": "python",
   "pygments_lexer": "ipython3",
   "version": "3.1.-1"
  }
 },
 "nbformat": 4,
 "nbformat_minor": 2
}
